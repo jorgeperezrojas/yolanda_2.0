{
 "cells": [
  {
   "cell_type": "code",
   "execution_count": null,
   "metadata": {
    "collapsed": true
   },
   "outputs": [],
   "source": [
    "import numpy as np\n",
    "import re\n",
    "from numpy.linalg import norm\n",
    "from gensim.models import KeyedVectors\n",
    "import ipdb"
   ]
  },
  {
   "cell_type": "code",
   "execution_count": null,
   "metadata": {
    "collapsed": true
   },
   "outputs": [],
   "source": [
    "emb_file = '/Users/jperez/research/nlp/word-embeddings/spanish-word-embeddings/examples/fasttext-sbwc.3.6.e20.vec'\n",
    "we = KeyedVectors.load_word2vec_format(emb_file, limit=300000)"
   ]
  },
  {
   "cell_type": "code",
   "execution_count": null,
   "metadata": {
    "collapsed": true
   },
   "outputs": [],
   "source": [
    "def to_vector(texto):\n",
    "    tokens = texto.split()\n",
    "    vec = np.zeros(300)\n",
    "    for word in tokens:\n",
    "        # si la palabra está la acumulamos\n",
    "        if word in we:\n",
    "            vec += we[word]\n",
    "    return vec / norm(vec)"
   ]
  },
  {
   "cell_type": "code",
   "execution_count": null,
   "metadata": {
    "collapsed": true
   },
   "outputs": [],
   "source": [
    "def similarity(texto_1, texto_2):\n",
    "    vec_1 = to_vector(texto_1)\n",
    "    vec_2 = to_vector(texto_2)\n",
    "    sim = vec_1 @ vec_2\n",
    "    return sim"
   ]
  },
  {
   "cell_type": "code",
   "execution_count": null,
   "metadata": {
    "collapsed": true
   },
   "outputs": [],
   "source": [
    "temas = [\n",
    "    'pareja amor relación sexo sentimientos familia',\n",
    "    'salud comida bebida ejercicio alcohol colesterol desayuno agua medico doctor desarreglos',\n",
    "    'trabajo dinero oficina compañeros invertir'\n",
    "]\n",
    "\n",
    "textos = open('raw_data.txt').read().split('\\n')[:-1]"
   ]
  },
  {
   "cell_type": "code",
   "execution_count": null,
   "metadata": {
    "collapsed": true
   },
   "outputs": [],
   "source": [
    "def asd(texto):\n",
    "    texto = limpia(texto)\n",
    "    amor = similarity(texto, temas[0])\n",
    "    salud = similarity(texto, temas[1])\n",
    "    dinero = similarity(texto, temas[2])\n",
    "    return amor, salud, dinero"
   ]
  },
  {
   "cell_type": "code",
   "execution_count": null,
   "metadata": {
    "collapsed": true
   },
   "outputs": [],
   "source": [
    "def limpia(texto):\n",
    "    texto = texto.lower()\n",
    "    data = re.split('[, ;:/\\.]+', texto)\n",
    "    out = ' '.join(data)\n",
    "    return out.strip()"
   ]
  },
  {
   "cell_type": "code",
   "execution_count": null,
   "metadata": {
    "collapsed": true
   },
   "outputs": [],
   "source": [
    "as_trsh = 0.01\n",
    "st_trsh = 0.013\n",
    "error_mult = 2.5\n",
    "\n",
    "# heurística para dividr texto considerando el orden y la semántica\n",
    "def divide(texto):\n",
    "    # primero saca el último punto si es que el texto termina en punto\n",
    "    texto = texto[:-1] if texto.endswith('.') else texto\n",
    "\n",
    "    # divide en oraciones y devuelve los puntos\n",
    "    data = texto.split('.')\n",
    "    data = [x.strip() + '.' for x in data]\n",
    "    \n",
    "    #ipdb.set_trace()\n",
    "    # decide cuando termina amor\n",
    "    for salud_i in range(1,len(data)):\n",
    "        a,s,_ = asd(data[salud_i])\n",
    "        if s - a > as_trsh:\n",
    "            break\n",
    "            \n",
    "    #ipdb.set_trace()\n",
    "    for dinero_i in range(salud_i,len(data)):\n",
    "        _,s,d  = asd(data[dinero_i])\n",
    "        if d - s > st_trsh:\n",
    "            break\n",
    "            \n",
    "    for error_i in range(dinero_i,len(data)):\n",
    "        _,s,d  = asd(data[error_i])\n",
    "        if s - d > error_mult*st_trsh:\n",
    "            dinero_i = error_i + 1\n",
    "        elif d - s > error_mult*st_trsh:\n",
    "            break\n",
    "            \n",
    "\n",
    "    \n",
    "    amor =  ' '.join(data[:salud_i])\n",
    "    salud = ' '.join(data[salud_i:dinero_i])\n",
    "    dinero = ' '.join(data[dinero_i:])\n",
    "\n",
    "    return amor, salud, dinero    "
   ]
  },
  {
   "cell_type": "code",
   "execution_count": null,
   "metadata": {
    "collapsed": true
   },
   "outputs": [],
   "source": [
    "ejemplo = 'Busque las cualidades de su pareja y evite destacar sus defectos. Caminar es el mejor ejercicio. Practíquelo a diario. Cuide su trabajo, pues representa su sustento. No discuta tanto con sus compañeros de trabajo. Evite problemas.'"
   ]
  },
  {
   "cell_type": "code",
   "execution_count": null,
   "metadata": {
    "scrolled": false
   },
   "outputs": [],
   "source": [
    "divide(ejemplo)"
   ]
  },
  {
   "cell_type": "code",
   "execution_count": null,
   "metadata": {
    "scrolled": true
   },
   "outputs": [],
   "source": [
    "with open('../raw_amor.txt','w') as outamor, open('../raw_salud.txt','w') as outsalud, open('../raw_dinero.txt','w') as outdinero: \n",
    "    for texto in textos:\n",
    "        if len(texto) < 10:\n",
    "            continue\n",
    "        amor, salud, dinero = divide(texto)\n",
    "        if amor != '':\n",
    "            outamor.write(amor + '\\n')\n",
    "        if salud != '':\n",
    "            outsalud.write(salud + '\\n')\n",
    "        if dinero != '':\n",
    "            outdinero.write(dinero + '\\n')"
   ]
  },
  {
   "cell_type": "code",
   "execution_count": null,
   "metadata": {
    "collapsed": true
   },
   "outputs": [],
   "source": []
  }
 ],
 "metadata": {
  "kernelspec": {
   "display_name": "Python 3",
   "language": "python",
   "name": "python3"
  },
  "language_info": {
   "codemirror_mode": {
    "name": "ipython",
    "version": 3
   },
   "file_extension": ".py",
   "mimetype": "text/x-python",
   "name": "python",
   "nbconvert_exporter": "python",
   "pygments_lexer": "ipython3",
   "version": "3.6.0"
  }
 },
 "nbformat": 4,
 "nbformat_minor": 2
}
